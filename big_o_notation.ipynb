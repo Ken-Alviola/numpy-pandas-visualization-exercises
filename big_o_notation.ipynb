{
 "cells": [
  {
   "cell_type": "code",
   "execution_count": null,
   "metadata": {},
   "outputs": [],
   "source": [
    "'''\n",
    "Title your chart \"Big O Notation\"\n",
    "Label your x axis \"Elements\"\n",
    "Label your y axis \"Operations\"\n",
    "Label your curves or make a legend for the curves\n",
    "Use LaTex notation where possible\n",
    "Curves to graph\n",
    "\n",
    "y = 0x + 1 and label the curve \"O(1)\"\n",
    "y = log(x)and label the curve \"O(log n)\"\n",
    "y = x and label the curve \"O(n)\"\n",
    "y = x * log(x) and label it \"O(n log n)\"\n",
    "y = x ** 2 and label it \"O(n^2)\"\n",
    "y = 2 ** x and label it \"O(2^n)\"\n",
    "y = n! and label it \"O(n!)\"\n",
    "y = n ** n and label it \"O(n^n)\"\n",
    "'''\n",
    "\n"
   ]
  },
  {
   "cell_type": "code",
   "execution_count": null,
   "metadata": {},
   "outputs": [],
   "source": [
    "#6. Bonus Write the code necessary to write your name on a chart. Use box letters.\n"
   ]
  },
  {
   "cell_type": "code",
   "execution_count": null,
   "metadata": {},
   "outputs": [],
   "source": [
    "#7. Bonus: use curves for letters in your name that have curves in them.\n"
   ]
  },
  {
   "cell_type": "code",
   "execution_count": null,
   "metadata": {},
   "outputs": [],
   "source": []
  }
 ],
 "metadata": {
  "kernelspec": {
   "display_name": "Python 3",
   "language": "python",
   "name": "python3"
  },
  "language_info": {
   "codemirror_mode": {
    "name": "ipython",
    "version": 3
   },
   "file_extension": ".py",
   "mimetype": "text/x-python",
   "name": "python",
   "nbconvert_exporter": "python",
   "pygments_lexer": "ipython3",
   "version": "3.8.5"
  }
 },
 "nbformat": 4,
 "nbformat_minor": 4
}
