{
 "cells": [
  {
   "cell_type": "code",
   "execution_count": 12,
   "metadata": {},
   "outputs": [
    {
     "name": "stdout",
     "output_type": "stream",
     "text": [
      "[-2 -1 -6 -7]\n",
      "There are 4 negative numbers in array\n"
     ]
    }
   ],
   "source": [
    "import numpy as np\n",
    "import math\n",
    "#Use the following code for the questions below:\n",
    "a = np.array([4, 10, 12, 23, -2, -1, 0, 0, 0, -6, 3, -7])\n",
    "\n",
    "#1. How many negative numbers are there?\n",
    "print(a[a < 0])\n",
    "print(f'There are {len(a[a < 0])} negative numbers in array')"
   ]
  },
  {
   "cell_type": "code",
   "execution_count": 14,
   "metadata": {},
   "outputs": [
    {
     "name": "stdout",
     "output_type": "stream",
     "text": [
      "[ 4 10 12 23  3]\n",
      "There are 5 positive numbers in array\n"
     ]
    }
   ],
   "source": [
    "#2. How many positive numbers are there?\n",
    "\n",
    "print(a[a > 0])\n",
    "print(f'There are {len(a[a > 0])} positive numbers in array')"
   ]
  },
  {
   "cell_type": "code",
   "execution_count": 44,
   "metadata": {},
   "outputs": [
    {
     "name": "stdout",
     "output_type": "stream",
     "text": [
      "[ 4 10 12 23  3]\n",
      "[ 4 10 12]\n",
      "There are 3 positive even numbers in array\n"
     ]
    }
   ],
   "source": [
    "#3. How many even positive numbers are there?\n",
    "\n",
    "positive = a[a > 0]\n",
    "print(positive)\n",
    "even  = positive[positive % 2 == 0]\n",
    "print(even)\n",
    "print(f'There are {len(even)} positive even numbers in array')\n",
    "\n",
    "\n"
   ]
  },
  {
   "cell_type": "code",
   "execution_count": 46,
   "metadata": {},
   "outputs": [
    {
     "name": "stdout",
     "output_type": "stream",
     "text": [
      "[ 4 10 12 23 -2 -1  0  0  0 -6  3 -7]\n"
     ]
    },
    {
     "data": {
      "text/plain": [
       "array([ 7, 13, 15, 26,  1,  2,  3,  3,  3, -3,  6, -4])"
      ]
     },
     "execution_count": 46,
     "metadata": {},
     "output_type": "execute_result"
    }
   ],
   "source": [
    "#4. If you were to add 3 to each data point, how many positive numbers would there be?\n",
    "print(a)\n",
    "a_plus_3 = a + 3\n",
    "a_plus_3\n"
   ]
  },
  {
   "cell_type": "code",
   "execution_count": null,
   "metadata": {},
   "outputs": [],
   "source": [
    "#5. If you squared each number, what would the new mean and standard deviation be?\n",
    "\n"
   ]
  },
  {
   "cell_type": "code",
   "execution_count": null,
   "metadata": {},
   "outputs": [],
   "source": [
    "#6. A common statistical operation on a dataset is centering. \n",
    "#This means to adjust the data such that the mean of the data is 0.\n",
    "#This is done by subtracting the mean from each data point. \n",
    "#Center the data set. See this link for more on centering.\n",
    "\n"
   ]
  },
  {
   "cell_type": "code",
   "execution_count": null,
   "metadata": {},
   "outputs": [],
   "source": [
    "#7. Calculate the z-score for each data point. Recall that the z-score is given by:\n",
    "\n",
    "#Z = (x − μ) / σ"
   ]
  },
  {
   "cell_type": "code",
   "execution_count": null,
   "metadata": {},
   "outputs": [],
   "source": [
    "#8. Copy the setup and exercise directions\n",
    "#from More Numpy Practice into your numpy_exercises.py and add your solutions.\n",
    "\n"
   ]
  },
  {
   "cell_type": "code",
   "execution_count": null,
   "metadata": {},
   "outputs": [],
   "source": [
    "#Awesome Bonus For much more practice with numpy, \n",
    "#Go to https://github.com/rougier/numpy-100 and click the \"Fork\" icon in the upper-right\n",
    "#of the screen to fork the repo. This makes a copy of the repo onto your own account. \n",
    "#Next, clone your fork https://github.com/your-username/numpy-100 down to your machine.\n",
    "#Work through, add, commit, and push your solutions to your own repo.\n",
    "\n"
   ]
  }
 ],
 "metadata": {
  "kernelspec": {
   "display_name": "Python 3",
   "language": "python",
   "name": "python3"
  },
  "language_info": {
   "codemirror_mode": {
    "name": "ipython",
    "version": 3
   },
   "file_extension": ".py",
   "mimetype": "text/x-python",
   "name": "python",
   "nbconvert_exporter": "python",
   "pygments_lexer": "ipython3",
   "version": "3.8.5"
  }
 },
 "nbformat": 4,
 "nbformat_minor": 4
}
